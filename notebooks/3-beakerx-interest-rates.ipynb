{
 "cells": [
  {
   "cell_type": "markdown",
   "metadata": {},
   "source": [
    "# Interest Rates\n",
    "\n",
    "This notebook is a demo of the [BeakerX](http://beakerx.com/) interactive table display and interactive plotting library, using interest rate data. The BeakerX Python runtime configures pandas to display tables with the interactive widget instead of static HTML.\n",
    "\n",
    "*Extracted from the BeakerX [Table API](https://github.com/twosigma/beakerx/blob/master/doc/python/TableAPI.ipynb) and [Charting API](https://github.com/twosigma/beakerx/blob/master/doc/python/ChartingAPI.ipynb) examples.* (Apache License 2.0)\n",
    "\n",
    "See also: [BeakerX Beaker Extensions for Jupyter](https://www.youtube.com/watch?v=ZHTqtHhVXi4)"
   ]
  },
  {
   "cell_type": "code",
   "execution_count": null,
   "metadata": {},
   "outputs": [],
   "source": [
    "import pandas as pd\n",
    "from beakerx import *\n",
    "\n",
    "DATA_FILE = '../data/interest-rates.csv'"
   ]
  },
  {
   "cell_type": "code",
   "execution_count": null,
   "metadata": {},
   "outputs": [],
   "source": [
    "data = pd.read_csv(DATA_FILE)\n",
    "data"
   ]
  },
  {
   "cell_type": "code",
   "execution_count": null,
   "metadata": {},
   "outputs": [],
   "source": [
    "# Set alignment and use data bars\n",
    "table = TableDisplay(data)\n",
    "table.setAlignmentProviderForColumn('m3', TableDisplayAlignmentProvider.CENTER_ALIGNMENT)\n",
    "table.setRendererForColumn(\"y10\", TableDisplayCellRenderer.getDataBarsRenderer(False))\n",
    "table.setRendererForType(ColumnType.Double, TableDisplayCellRenderer.getDataBarsRenderer(True))\n",
    "table"
   ]
  },
  {
   "cell_type": "code",
   "execution_count": null,
   "metadata": {},
   "outputs": [],
   "source": [
    "# Set string formatting\n",
    "df = data.copy()\n",
    "df['time'] = df['time'].str.slice(0,19).astype('datetime64[ns]')\n",
    "table = TableDisplay(df)\n",
    "table.setStringFormatForTimes(TimeUnit.DAYS)\n",
    "table.setStringFormatForType(ColumnType.Double, TableDisplayStringFormat.getDecimalFormat(4,6))\n",
    "table.setStringFormatForColumn(\"m3\", TableDisplayStringFormat.getDecimalFormat(0, 0))\n",
    "\n",
    "table"
   ]
  },
  {
   "cell_type": "code",
   "execution_count": null,
   "metadata": {},
   "outputs": [],
   "source": [
    "# Use heatmap\n",
    "table = TableDisplay(data)\n",
    "table.addCellHighlighter(\n",
    "    TableDisplayCellHighlighter.getHeatmapHighlighter(\"m3\", TableDisplayCellHighlighter.FULL_ROW))\n",
    "\n",
    "table"
   ]
  },
  {
   "cell_type": "markdown",
   "metadata": {},
   "source": [
    "## Time-series plot"
   ]
  },
  {
   "cell_type": "markdown",
   "metadata": {},
   "source": [
    "The plot can have two y-axes. Just add a `YAxis` to the plot object, and specify its label.\n",
    "Then for data that should be scaled according to this second axis,\n",
    "specify the property `yAxis` with a value that coincides with the label given.\n",
    "You can use `upperMargin` and `lowerMargin` to restrict the range of the data leaving more white, perhaps for the data on the other axis.\n",
    "\n",
    "Also, demonstrates `Crosshair`."
   ]
  },
  {
   "cell_type": "code",
   "execution_count": null,
   "metadata": {},
   "outputs": [],
   "source": [
    "ch = Crosshair(color=Color(255, 128, 5), width=2, style=StrokeType.DOT)\n",
    "\n",
    "p = TimePlot(xLabel= \"Time\", yLabel=\"Interest Rates\", crosshair=ch)\n",
    "p.add(YAxis(label=\"Spread\", upperMargin=4))\n",
    "p.add(Area(x=data.time, y=data.spread, displayName=\"Spread\",\n",
    "              yAxis= \"Spread\", color=Color(180, 50, 50, 128)))\n",
    "p.add(Line(x=data.time, y=data.m3, displayName=\"3 Month\"))\n",
    "p.add(Line(x=data.time, y=data.y10, displayName=\"10 Year\"))"
   ]
  },
  {
   "cell_type": "code",
   "execution_count": null,
   "metadata": {},
   "outputs": [],
   "source": []
  }
 ],
 "metadata": {
  "celltoolbar": "Tags",
  "kernelspec": {
   "display_name": "Python [default]",
   "language": "python",
   "name": "python3"
  },
  "language_info": {
   "codemirror_mode": {
    "name": "ipython",
    "version": 3
   },
   "file_extension": ".py",
   "mimetype": "text/x-python",
   "name": "python",
   "nbconvert_exporter": "python",
   "pygments_lexer": "ipython3",
   "version": "3.6.5"
  }
 },
 "nbformat": 4,
 "nbformat_minor": 2
}
